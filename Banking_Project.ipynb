{
  "nbformat": 4,
  "nbformat_minor": 0,
  "metadata": {
    "colab": {
      "name": "Banking_Project.ipynb",
      "provenance": [],
      "collapsed_sections": [],
      "include_colab_link": true
    },
    "kernelspec": {
      "name": "python3",
      "display_name": "Python 3"
    }
  },
  "cells": [
    {
      "cell_type": "markdown",
      "metadata": {
        "id": "view-in-github",
        "colab_type": "text"
      },
      "source": [
        "<a href=\"https://colab.research.google.com/github/fshivam/Banking_Project/blob/master/Banking_Project.ipynb\" target=\"_parent\"><img src=\"https://colab.research.google.com/assets/colab-badge.svg\" alt=\"Open In Colab\"/></a>"
      ]
    },
    {
      "cell_type": "code",
      "metadata": {
        "id": "HBgcdsOwrraT",
        "colab_type": "code",
        "colab": {
          "base_uri": "https://localhost:8080/",
          "height": 71
        },
        "outputId": "3dd6f907-6598-4680-becd-1ae65bea22ce"
      },
      "source": [
        "import pandas as pd\n",
        "import numpy as np\n",
        "import matplotlib.pyplot as plt\n",
        "import seaborn as sns\n",
        "sns.set(style='darkgrid')\n",
        "\n",
        "df = pd.read_csv('banking.csv')"
      ],
      "execution_count": 1,
      "outputs": [
        {
          "output_type": "stream",
          "text": [
            "/usr/local/lib/python3.6/dist-packages/statsmodels/tools/_testing.py:19: FutureWarning: pandas.util.testing is deprecated. Use the functions in the public API at pandas.testing instead.\n",
            "  import pandas.util.testing as tm\n"
          ],
          "name": "stderr"
        }
      ]
    },
    {
      "cell_type": "code",
      "metadata": {
        "id": "K9YPtTQ0xwgP",
        "colab_type": "code",
        "colab": {
          "base_uri": "https://localhost:8080/",
          "height": 224
        },
        "outputId": "f93fbc8f-b6a7-4f76-bbf1-50a20bc9e68f"
      },
      "source": [
        "df.head()"
      ],
      "execution_count": 2,
      "outputs": [
        {
          "output_type": "execute_result",
          "data": {
            "text/html": [
              "<div>\n",
              "<style scoped>\n",
              "    .dataframe tbody tr th:only-of-type {\n",
              "        vertical-align: middle;\n",
              "    }\n",
              "\n",
              "    .dataframe tbody tr th {\n",
              "        vertical-align: top;\n",
              "    }\n",
              "\n",
              "    .dataframe thead th {\n",
              "        text-align: right;\n",
              "    }\n",
              "</style>\n",
              "<table border=\"1\" class=\"dataframe\">\n",
              "  <thead>\n",
              "    <tr style=\"text-align: right;\">\n",
              "      <th></th>\n",
              "      <th>age</th>\n",
              "      <th>job</th>\n",
              "      <th>marital</th>\n",
              "      <th>education</th>\n",
              "      <th>default</th>\n",
              "      <th>housing</th>\n",
              "      <th>loan</th>\n",
              "      <th>contact</th>\n",
              "      <th>month</th>\n",
              "      <th>day_of_week</th>\n",
              "      <th>duration</th>\n",
              "      <th>campaign</th>\n",
              "      <th>pdays</th>\n",
              "      <th>previous</th>\n",
              "      <th>poutcome</th>\n",
              "      <th>emp_var_rate</th>\n",
              "      <th>cons_price_idx</th>\n",
              "      <th>cons_conf_idx</th>\n",
              "      <th>euribor3m</th>\n",
              "      <th>nr_employed</th>\n",
              "      <th>y</th>\n",
              "    </tr>\n",
              "  </thead>\n",
              "  <tbody>\n",
              "    <tr>\n",
              "      <th>0</th>\n",
              "      <td>44</td>\n",
              "      <td>blue-collar</td>\n",
              "      <td>married</td>\n",
              "      <td>basic.4y</td>\n",
              "      <td>unknown</td>\n",
              "      <td>yes</td>\n",
              "      <td>no</td>\n",
              "      <td>cellular</td>\n",
              "      <td>aug</td>\n",
              "      <td>thu</td>\n",
              "      <td>210</td>\n",
              "      <td>1</td>\n",
              "      <td>999</td>\n",
              "      <td>0</td>\n",
              "      <td>nonexistent</td>\n",
              "      <td>1.4</td>\n",
              "      <td>93.444</td>\n",
              "      <td>-36.1</td>\n",
              "      <td>4.963</td>\n",
              "      <td>5228.1</td>\n",
              "      <td>0</td>\n",
              "    </tr>\n",
              "    <tr>\n",
              "      <th>1</th>\n",
              "      <td>53</td>\n",
              "      <td>technician</td>\n",
              "      <td>married</td>\n",
              "      <td>unknown</td>\n",
              "      <td>no</td>\n",
              "      <td>no</td>\n",
              "      <td>no</td>\n",
              "      <td>cellular</td>\n",
              "      <td>nov</td>\n",
              "      <td>fri</td>\n",
              "      <td>138</td>\n",
              "      <td>1</td>\n",
              "      <td>999</td>\n",
              "      <td>0</td>\n",
              "      <td>nonexistent</td>\n",
              "      <td>-0.1</td>\n",
              "      <td>93.200</td>\n",
              "      <td>-42.0</td>\n",
              "      <td>4.021</td>\n",
              "      <td>5195.8</td>\n",
              "      <td>0</td>\n",
              "    </tr>\n",
              "    <tr>\n",
              "      <th>2</th>\n",
              "      <td>28</td>\n",
              "      <td>management</td>\n",
              "      <td>single</td>\n",
              "      <td>university.degree</td>\n",
              "      <td>no</td>\n",
              "      <td>yes</td>\n",
              "      <td>no</td>\n",
              "      <td>cellular</td>\n",
              "      <td>jun</td>\n",
              "      <td>thu</td>\n",
              "      <td>339</td>\n",
              "      <td>3</td>\n",
              "      <td>6</td>\n",
              "      <td>2</td>\n",
              "      <td>success</td>\n",
              "      <td>-1.7</td>\n",
              "      <td>94.055</td>\n",
              "      <td>-39.8</td>\n",
              "      <td>0.729</td>\n",
              "      <td>4991.6</td>\n",
              "      <td>1</td>\n",
              "    </tr>\n",
              "    <tr>\n",
              "      <th>3</th>\n",
              "      <td>39</td>\n",
              "      <td>services</td>\n",
              "      <td>married</td>\n",
              "      <td>high.school</td>\n",
              "      <td>no</td>\n",
              "      <td>no</td>\n",
              "      <td>no</td>\n",
              "      <td>cellular</td>\n",
              "      <td>apr</td>\n",
              "      <td>fri</td>\n",
              "      <td>185</td>\n",
              "      <td>2</td>\n",
              "      <td>999</td>\n",
              "      <td>0</td>\n",
              "      <td>nonexistent</td>\n",
              "      <td>-1.8</td>\n",
              "      <td>93.075</td>\n",
              "      <td>-47.1</td>\n",
              "      <td>1.405</td>\n",
              "      <td>5099.1</td>\n",
              "      <td>0</td>\n",
              "    </tr>\n",
              "    <tr>\n",
              "      <th>4</th>\n",
              "      <td>55</td>\n",
              "      <td>retired</td>\n",
              "      <td>married</td>\n",
              "      <td>basic.4y</td>\n",
              "      <td>no</td>\n",
              "      <td>yes</td>\n",
              "      <td>no</td>\n",
              "      <td>cellular</td>\n",
              "      <td>aug</td>\n",
              "      <td>fri</td>\n",
              "      <td>137</td>\n",
              "      <td>1</td>\n",
              "      <td>3</td>\n",
              "      <td>1</td>\n",
              "      <td>success</td>\n",
              "      <td>-2.9</td>\n",
              "      <td>92.201</td>\n",
              "      <td>-31.4</td>\n",
              "      <td>0.869</td>\n",
              "      <td>5076.2</td>\n",
              "      <td>1</td>\n",
              "    </tr>\n",
              "  </tbody>\n",
              "</table>\n",
              "</div>"
            ],
            "text/plain": [
              "   age          job  marital  ... euribor3m nr_employed  y\n",
              "0   44  blue-collar  married  ...     4.963      5228.1  0\n",
              "1   53   technician  married  ...     4.021      5195.8  0\n",
              "2   28   management   single  ...     0.729      4991.6  1\n",
              "3   39     services  married  ...     1.405      5099.1  0\n",
              "4   55      retired  married  ...     0.869      5076.2  1\n",
              "\n",
              "[5 rows x 21 columns]"
            ]
          },
          "metadata": {
            "tags": []
          },
          "execution_count": 2
        }
      ]
    },
    {
      "cell_type": "markdown",
      "metadata": {
        "id": "JighXUDbw1mo",
        "colab_type": "text"
      },
      "source": [
        "## **About the dataset**\n",
        "\n",
        "\n",
        "\n",
        "---\n",
        "\n",
        "The data belongs to a Portuguese bank and relates to their telemarketing campaigns for fixed deposits. \n",
        "\n",
        "The goal is to use this dataset, in order to increase the subscription rate for their fixed deposits. \n",
        "\n",
        "---\n",
        "\n"
      ]
    },
    {
      "cell_type": "markdown",
      "metadata": {
        "id": "98Nd5jSHydZX",
        "colab_type": "text"
      },
      "source": [
        "### **Class Imbalance**\n",
        "\n",
        "\n",
        "\n",
        "---\n",
        "\n",
        "There are **36548** failed subscriptions and only **4640** successful subscriptions. This makes it difficult to develop a production level model without introducing some level of bias. \n",
        "\n",
        "---\n",
        "\n"
      ]
    },
    {
      "cell_type": "code",
      "metadata": {
        "id": "1KotRxKUxc0x",
        "colab_type": "code",
        "colab": {
          "base_uri": "https://localhost:8080/",
          "height": 68
        },
        "outputId": "85784801-b116-4361-8d78-36cbac5a7d6a"
      },
      "source": [
        "# Checking for class imbalance\n",
        "df_copy = df.copy()\n",
        "print(df['y'].value_counts())"
      ],
      "execution_count": 3,
      "outputs": [
        {
          "output_type": "stream",
          "text": [
            "0    36548\n",
            "1     4640\n",
            "Name: y, dtype: int64\n"
          ],
          "name": "stdout"
        }
      ]
    },
    {
      "cell_type": "markdown",
      "metadata": {
        "id": "4tXf4aoB34JD",
        "colab_type": "text"
      },
      "source": [
        "### **Duplicates**\n",
        "\n",
        "\n",
        "\n",
        "---\n",
        "There are 12 duplicates in the dataset, these should be dropped\n",
        "\n",
        "---\n",
        "\n",
        "\n"
      ]
    },
    {
      "cell_type": "code",
      "metadata": {
        "id": "FgPKyTc44Dfb",
        "colab_type": "code",
        "colab": {
          "base_uri": "https://localhost:8080/",
          "height": 34
        },
        "outputId": "36cdd4e1-ae28-4b55-bc93-bfec76e3bb32"
      },
      "source": [
        "# Check for duplicates\n",
        "df_copy = df.copy()\n",
        "print('Number of duplicates: {}'.format(len(df_copy[df_copy.duplicated()])))\n",
        "\n",
        "# Removing duplicates\n",
        "df = df_copy[~df_copy.duplicated()]"
      ],
      "execution_count": 4,
      "outputs": [
        {
          "output_type": "stream",
          "text": [
            "Number of duplicates: 12\n"
          ],
          "name": "stdout"
        }
      ]
    },
    {
      "cell_type": "markdown",
      "metadata": {
        "id": "Vs0lUQL87t1L",
        "colab_type": "text"
      },
      "source": [
        "### **Defaults**\n",
        "\n",
        "---\n",
        "There are only 3 people in the ~41K dataset that have defaults with the bank, and a substantial (8596) people given an \"unknown\" default status. \n",
        "\n",
        "In the light of this, it is better to drop the default column since it is not really contributing anything. \n",
        "\n",
        "---\n",
        "\n",
        "\n"
      ]
    },
    {
      "cell_type": "code",
      "metadata": {
        "id": "bs4shxWK7g1C",
        "colab_type": "code",
        "colab": {
          "base_uri": "https://localhost:8080/",
          "height": 85
        },
        "outputId": "d017b472-9455-46d2-f7ea-739731ca6e03"
      },
      "source": [
        "# Verify and drop 'default' column\n",
        "df_copy = df.copy()\n",
        "print(df_copy['default'].value_counts())\n",
        "df = df_copy.drop('default', axis=1)"
      ],
      "execution_count": 5,
      "outputs": [
        {
          "output_type": "stream",
          "text": [
            "no         32577\n",
            "unknown     8596\n",
            "yes            3\n",
            "Name: default, dtype: int64\n"
          ],
          "name": "stdout"
        }
      ]
    },
    {
      "cell_type": "markdown",
      "metadata": {
        "id": "LGaeB-kTycaZ",
        "colab_type": "text"
      },
      "source": [
        "### **Negligible Contribution of Illiterates**\n",
        "\n",
        "\n",
        "\n",
        "---\n",
        "\n",
        "Similarly, illiterates (in the education column) contributes less than 1% to the total data, hence this category should be ignored for further analysis.\n",
        "\n",
        "---\n",
        "\n"
      ]
    },
    {
      "cell_type": "code",
      "metadata": {
        "id": "Xs9PDE9vz88M",
        "colab_type": "code",
        "colab": {
          "base_uri": "https://localhost:8080/",
          "height": 187
        },
        "outputId": "9ffd5710-3eec-426c-efba-c5621f6d6569"
      },
      "source": [
        "# Checking total datapoints for illiterates\n",
        "df_copy = df.copy()\n",
        "print(df_copy['education'].value_counts())\n",
        "print('Contribution of illiterates to total data: {}%'.format(df_copy['education'].value_counts().iloc[-1]/len(df_copy) * 100))"
      ],
      "execution_count": 6,
      "outputs": [
        {
          "output_type": "stream",
          "text": [
            "university.degree      12164\n",
            "high.school             9512\n",
            "basic.9y                6045\n",
            "professional.course     5240\n",
            "basic.4y                4176\n",
            "basic.6y                2291\n",
            "unknown                 1730\n",
            "illiterate                18\n",
            "Name: education, dtype: int64\n",
            "Contribution of illiterates to total data: 0.043714785311832136%\n"
          ],
          "name": "stdout"
        }
      ]
    },
    {
      "cell_type": "markdown",
      "metadata": {
        "id": "NLyhVLQ9tj0U",
        "colab_type": "text"
      },
      "source": [
        "## **Deep Dive!**\n",
        "\n",
        "\n",
        "\n",
        "---\n",
        "\n",
        "Let us take the route of trying to ask questions to the data, and see what comes up. \n",
        "\n",
        "We'll base the questions on our commonsense rather than on the specific domain of banking or telemarketing. \n",
        "\n",
        "---\n",
        "\n",
        "\n",
        "\n"
      ]
    },
    {
      "cell_type": "markdown",
      "metadata": {
        "id": "6u2gdWY-s3m4",
        "colab_type": "text"
      },
      "source": [
        "### **Which age group is more likely to do a fixed deposit?**\n"
      ]
    },
    {
      "cell_type": "code",
      "metadata": {
        "id": "TihIq_RcoPaZ",
        "colab_type": "code",
        "colab": {}
      },
      "source": [
        "# Bucketize age groups\n",
        "df_copy = df.copy()\n",
        "bins = [0, 30, 40, 50, 60, 100]\n",
        "labels = [20, 30, 40, 50, 60]\n",
        "df_copy['age_group'] = pd.cut(df_copy['age'], bins=bins, labels=labels)"
      ],
      "execution_count": 7,
      "outputs": []
    },
    {
      "cell_type": "code",
      "metadata": {
        "id": "Rk4kLfHqAPpp",
        "colab_type": "code",
        "colab": {}
      },
      "source": [
        "count_age_response_pct = pd.crosstab(df_copy['y'], df_copy['age_group']).apply(lambda x: x/x.sum() * 100)\n",
        "count_age_response_pct = count_age_response_pct.transpose() "
      ],
      "execution_count": 8,
      "outputs": []
    },
    {
      "cell_type": "code",
      "metadata": {
        "id": "ciURqOXmuTvn",
        "colab_type": "code",
        "colab": {}
      },
      "source": [
        "age = pd.DataFrame(df_copy['age_group'].value_counts())\n",
        "age['% Contacted'] = age['age_group']*100/age['age_group'].sum()\n",
        "age['% Subscription'] = count_age_response_pct[1]\n",
        "age.drop('age_group', axis = 1, inplace = True)\n",
        "age['age'] = [30, 40, 20, 50, 60]\n",
        "age = age.sort_values('age',ascending = True)"
      ],
      "execution_count": 9,
      "outputs": []
    },
    {
      "cell_type": "code",
      "metadata": {
        "id": "acAKU70ZAT5a",
        "colab_type": "code",
        "colab": {
          "base_uri": "https://localhost:8080/",
          "height": 627
        },
        "outputId": "ce981ab6-c5e1-4bfb-8023-f77ad8548784"
      },
      "source": [
        "plot_age = age[['% Subscription','% Contacted']].plot(kind = 'bar',\n",
        "                                              figsize=(16,10), color = ('green','red'))\n",
        "plt.xlabel('Age Group')\n",
        "plt.ylabel('Subscription Rate')\n",
        "plt.xticks(np.arange(5), ('<30', '30-39', '40-49', '50-59', '60+'),rotation = 'horizontal')\n",
        "plt.title('Subscription vs. Contact Rate by Age')\n",
        "plt.show()"
      ],
      "execution_count": 10,
      "outputs": [
        {
          "output_type": "display_data",
          "data": {
            "image/png": "[encoded data removed]",
            "text/plain": [
              "<Figure size 1152x720 with 1 Axes>"
            ]
          },
          "metadata": {
            "tags": [],
            "needs_background": "light"
          }
        }
      ]
    },
    {
      "cell_type": "markdown",
      "metadata": {
        "id": "KZpzs2ltAtDo",
        "colab_type": "text"
      },
      "source": [
        "### **Insight: Age group less than 30 and more than 60+ should be targetted more!**\n",
        "\n",
        "---\n",
        "\n",
        "This may be due to age groups in the middle consist primariliy of working classes so it would make more sense for them to take invest in riskier options (like mutual funds or other riskier securities)\n",
        "\n",
        "Whereas students and retired people would want to stay risk averse at this point in their life and the safety of an FD is alluring\n",
        "\n",
        "---\n",
        "\n",
        "\n"
      ]
    },
    {
      "cell_type": "markdown",
      "metadata": {
        "id": "c2SjE1zEEgM_",
        "colab_type": "text"
      },
      "source": [
        "### **Which specific cateogry should we focus more on?**\n"
      ]
    },
    {
      "cell_type": "code",
      "metadata": {
        "id": "Q62CYk_CC55j",
        "colab_type": "code",
        "colab": {}
      },
      "source": [
        "df_copy = df.copy()\n",
        "count_job_response_pct = pd.crosstab(df_copy['y'], df_copy['job']).apply(lambda x: x/x.sum() * 100)\n",
        "count_job_response_pct = count_job_response_pct.transpose()"
      ],
      "execution_count": 11,
      "outputs": []
    },
    {
      "cell_type": "code",
      "metadata": {
        "id": "tKxG2EpFwrQd",
        "colab_type": "code",
        "colab": {
          "base_uri": "https://localhost:8080/",
          "height": 644
        },
        "outputId": "803f081a-9ae3-4a25-b52f-87ea20d5fbdb"
      },
      "source": [
        "plot_job = count_job_response_pct[1].sort_values(ascending = True).plot(kind ='barh', figsize = (16,10))\n",
        "plt.title('Subscription Rate by Job')\n",
        "plt.xlabel('Subscription Rate')\n",
        "plt.ylabel('Job Category')                                              "
      ],
      "execution_count": 12,
      "outputs": [
        {
          "output_type": "execute_result",
          "data": {
            "text/plain": [
              "Text(0, 0.5, 'Job Category')"
            ]
          },
          "metadata": {
            "tags": []
          },
          "execution_count": 12
        },
        {
          "output_type": "display_data",
          "data": {
            "image/png": "[encoded data removed]",
            "text/plain": [
              "<Figure size 1152x720 with 1 Axes>"
            ]
          },
          "metadata": {
            "tags": [],
            "needs_background": "light"
          }
        }
      ]
    },
    {
      "cell_type": "markdown",
      "metadata": {
        "id": "hSSqYTQ_FZbK",
        "colab_type": "text"
      },
      "source": [
        "### **Insight: Student and Retired categories have by far the highest subscription rates.**\n",
        "\n",
        "\n",
        "\n",
        "---\n",
        "\n",
        "This also confirms our previous hypothesis about targetting age groups below 30 and above 60 since below customers below are mostly students or starting out fresh as employees and customers above 60 are retired. \n",
        "\n",
        "---\n",
        "\n"
      ]
    },
    {
      "cell_type": "markdown",
      "metadata": {
        "id": "02t74m_kGfWT",
        "colab_type": "text"
      },
      "source": [
        "### **How often should we call our customers?**"
      ]
    },
    {
      "cell_type": "code",
      "metadata": {
        "id": "NT5Oatv5x924",
        "colab_type": "code",
        "colab": {}
      },
      "source": [
        "df_copy = df.copy()\n",
        "bins = [0, 1, 3, 5, 15, 30, 10000]\n",
        "labels = ['Only 1', 'Upto 3', 'Upto 5', 'Upto 15', 'Upto 30', 'More than 30']\n",
        "df_copy['campaign_cat'] = pd.cut(df_copy['campaign'], bins=bins, labels=labels)"
      ],
      "execution_count": 13,
      "outputs": []
    },
    {
      "cell_type": "code",
      "metadata": {
        "id": "ZicmN76JBez1",
        "colab_type": "code",
        "colab": {
          "base_uri": "https://localhost:8080/",
          "height": 266
        },
        "outputId": "47b760d0-7f12-48f6-9342-619715539c2b"
      },
      "source": [
        "pd.crosstab(df_copy['campaign_cat'], df_copy['y'])"
      ],
      "execution_count": 14,
      "outputs": [
        {
          "output_type": "execute_result",
          "data": {
            "text/html": [
              "<div>\n",
              "<style scoped>\n",
              "    .dataframe tbody tr th:only-of-type {\n",
              "        vertical-align: middle;\n",
              "    }\n",
              "\n",
              "    .dataframe tbody tr th {\n",
              "        vertical-align: top;\n",
              "    }\n",
              "\n",
              "    .dataframe thead th {\n",
              "        text-align: right;\n",
              "    }\n",
              "</style>\n",
              "<table border=\"1\" class=\"dataframe\">\n",
              "  <thead>\n",
              "    <tr style=\"text-align: right;\">\n",
              "      <th>y</th>\n",
              "      <th>0</th>\n",
              "      <th>1</th>\n",
              "    </tr>\n",
              "    <tr>\n",
              "      <th>campaign_cat</th>\n",
              "      <th></th>\n",
              "      <th></th>\n",
              "    </tr>\n",
              "  </thead>\n",
              "  <tbody>\n",
              "    <tr>\n",
              "      <th>Only 1</th>\n",
              "      <td>15335</td>\n",
              "      <td>2299</td>\n",
              "    </tr>\n",
              "    <tr>\n",
              "      <th>Upto 3</th>\n",
              "      <td>14123</td>\n",
              "      <td>1785</td>\n",
              "    </tr>\n",
              "    <tr>\n",
              "      <th>Upto 5</th>\n",
              "      <td>3880</td>\n",
              "      <td>369</td>\n",
              "    </tr>\n",
              "    <tr>\n",
              "      <th>Upto 15</th>\n",
              "      <td>2849</td>\n",
              "      <td>181</td>\n",
              "    </tr>\n",
              "    <tr>\n",
              "      <th>Upto 30</th>\n",
              "      <td>317</td>\n",
              "      <td>5</td>\n",
              "    </tr>\n",
              "    <tr>\n",
              "      <th>More than 30</th>\n",
              "      <td>33</td>\n",
              "      <td>0</td>\n",
              "    </tr>\n",
              "  </tbody>\n",
              "</table>\n",
              "</div>"
            ],
            "text/plain": [
              "y                 0     1\n",
              "campaign_cat             \n",
              "Only 1        15335  2299\n",
              "Upto 3        14123  1785\n",
              "Upto 5         3880   369\n",
              "Upto 15        2849   181\n",
              "Upto 30         317     5\n",
              "More than 30     33     0"
            ]
          },
          "metadata": {
            "tags": []
          },
          "execution_count": 14
        }
      ]
    },
    {
      "cell_type": "code",
      "metadata": {
        "id": "LIIAGgcP-gBS",
        "colab_type": "code",
        "colab": {}
      },
      "source": [
        "campaigns = pd.DataFrame()\n",
        "campaigns['Number of calls'] = labels\n",
        "campaigns['Subscription Rate'] = pd.crosstab(df_copy['campaign_cat'], df_copy['y']).apply(lambda x: x/x.sum(), axis=1).iloc[:,1].to_list()"
      ],
      "execution_count": 15,
      "outputs": []
    },
    {
      "cell_type": "code",
      "metadata": {
        "id": "2LeYgWYy-TeZ",
        "colab_type": "code",
        "colab": {
          "base_uri": "https://localhost:8080/",
          "height": 611
        },
        "outputId": "9a3a6e96-50f5-4c4e-d350-185bc935976b"
      },
      "source": [
        "fig, ax = plt.subplots(figsize=(16, 10))\n",
        "sns.barplot(campaigns['Number of calls'], campaigns['Subscription Rate'])\n",
        "plt.show()"
      ],
      "execution_count": 16,
      "outputs": [
        {
          "output_type": "display_data",
          "data": {
            "image/png": "[encoded data removed]",
            "text/plain": [
              "<Figure size 1152x720 with 1 Axes>"
            ]
          },
          "metadata": {
            "tags": [],
            "needs_background": "light"
          }
        }
      ]
    },
    {
      "cell_type": "markdown",
      "metadata": {
        "id": "3pFG7L9yHnTe",
        "colab_type": "text"
      },
      "source": [
        "### **Insight: An inverse relationship exists between the subscription rate and the number of calls made to a customer.**\n",
        "\n",
        "---\n",
        "\n",
        "Perhaps the reason for this is that after a point marketing calls can get annoying or feel intrusive. A hard threshold for the maximum number of calls should be 30. This is evident from the fact that the bank called 33 customers more than 30 times, out of which no client took the subscription of a fixed deposit at the bank.\n",
        "\n",
        "---\n",
        "\n"
      ]
    },
    {
      "cell_type": "markdown",
      "metadata": {
        "id": "UouMEyjgNB1N",
        "colab_type": "text"
      },
      "source": [
        "### **How long should the call optimally be?**\n"
      ]
    },
    {
      "cell_type": "code",
      "metadata": {
        "id": "TfoRFg1CNSzU",
        "colab_type": "code",
        "colab": {
          "base_uri": "https://localhost:8080/",
          "height": 529
        },
        "outputId": "a20a4ec2-501f-4892-b2b4-984ba68c82e5"
      },
      "source": [
        "df_copy = df.copy()\n",
        "df_copy['duration'] = df_copy['duration'].apply(lambda n:n/60).round(2)\n",
        "\n",
        "\n",
        "dur_cam = sns.lmplot(x='duration', y='campaign',data = df_copy,\n",
        "                     hue = 'y',\n",
        "                     fit_reg = False,\n",
        "                     scatter_kws={'alpha':0.6}, height =7)\n",
        "\n",
        "plt.axis([0,65,0,65])\n",
        "plt.ylabel('Number of Calls')\n",
        "plt.xlabel('Duration of Calls (Minutes)')\n",
        "plt.title('The Relationship between the Number and Duration of Calls (with Response Result)')\n",
        "\n",
        "# Annotation\n",
        "plt.axhline(y=5, linewidth=2, color=\"k\", linestyle='--')\n",
        "plt.annotate('Higher subscription rate when calls <5',xytext = (35,13),\n",
        "             arrowprops=dict(color = 'k', width=1),xy=(30,6))\n",
        "plt.show()"
      ],
      "execution_count": 17,
      "outputs": [
        {
          "output_type": "display_data",
          "data": {
            "image/png": "[encoded data removed]",
            "text/plain": [
              "<Figure size 550.6x504 with 1 Axes>"
            ]
          },
          "metadata": {
            "tags": [],
            "needs_background": "light"
          }
        }
      ]
    },
    {
      "cell_type": "markdown",
      "metadata": {
        "id": "1yZoGPGMNuS8",
        "colab_type": "text"
      },
      "source": [
        "### **Insight: The bank should resist calling a client for more than five times!**\n",
        "\n",
        "\n",
        "---\n",
        "\n",
        "We see two distinct clusters.\n",
        "\n",
        "The clients that ended up subscribing were contacted fewer times and were spoken to for a relatively longer duration as compared to clients that failed to convert who were very frequently contacted. More importantly, most of the clients that converted were approached less than 10 times.\n",
        "\n",
        "\n",
        "---\n",
        "\n"
      ]
    },
    {
      "cell_type": "markdown",
      "metadata": {
        "id": "NGL2ra5kKgpe",
        "colab_type": "text"
      },
      "source": [
        "### **Is the subscription rate seasonal?**"
      ]
    },
    {
      "cell_type": "code",
      "metadata": {
        "id": "kKRqy622JNve",
        "colab_type": "code",
        "colab": {}
      },
      "source": [
        "df_copy = df.copy()\n",
        "\n",
        "count_month_response_pct = pd.crosstab(df_copy['y'], df_copy['month']).apply(lambda x: x/x.sum() * 100)\n",
        "count_month_response_pct = count_month_response_pct.transpose()\n",
        "\n",
        "month = pd.DataFrame(df_copy['month'].value_counts())\n",
        "month['% Contacted'] = month['month']*100/month['month'].sum()\n",
        "month['% Subscription'] = count_month_response_pct[1]\n",
        "month.drop('month', axis = 1,inplace = True)"
      ],
      "execution_count": 18,
      "outputs": []
    },
    {
      "cell_type": "code",
      "metadata": {
        "id": "av-csKSnErSE",
        "colab_type": "code",
        "colab": {
          "base_uri": "https://localhost:8080/",
          "height": 359
        },
        "outputId": "a036b079-1131-4d97-d6c9-b33032a5c1e1"
      },
      "source": [
        "month"
      ],
      "execution_count": 19,
      "outputs": [
        {
          "output_type": "execute_result",
          "data": {
            "text/html": [
              "<div>\n",
              "<style scoped>\n",
              "    .dataframe tbody tr th:only-of-type {\n",
              "        vertical-align: middle;\n",
              "    }\n",
              "\n",
              "    .dataframe tbody tr th {\n",
              "        vertical-align: top;\n",
              "    }\n",
              "\n",
              "    .dataframe thead th {\n",
              "        text-align: right;\n",
              "    }\n",
              "</style>\n",
              "<table border=\"1\" class=\"dataframe\">\n",
              "  <thead>\n",
              "    <tr style=\"text-align: right;\">\n",
              "      <th></th>\n",
              "      <th>% Contacted</th>\n",
              "      <th>% Subscription</th>\n",
              "    </tr>\n",
              "  </thead>\n",
              "  <tbody>\n",
              "    <tr>\n",
              "      <th>may</th>\n",
              "      <td>33.434525</td>\n",
              "      <td>6.435680</td>\n",
              "    </tr>\n",
              "    <tr>\n",
              "      <th>jul</th>\n",
              "      <td>17.410628</td>\n",
              "      <td>9.038918</td>\n",
              "    </tr>\n",
              "    <tr>\n",
              "      <th>aug</th>\n",
              "      <td>14.999029</td>\n",
              "      <td>10.605570</td>\n",
              "    </tr>\n",
              "    <tr>\n",
              "      <th>jun</th>\n",
              "      <td>12.915290</td>\n",
              "      <td>10.511470</td>\n",
              "    </tr>\n",
              "    <tr>\n",
              "      <th>nov</th>\n",
              "      <td>9.957257</td>\n",
              "      <td>10.146341</td>\n",
              "    </tr>\n",
              "    <tr>\n",
              "      <th>apr</th>\n",
              "      <td>6.389644</td>\n",
              "      <td>20.486507</td>\n",
              "    </tr>\n",
              "    <tr>\n",
              "      <th>oct</th>\n",
              "      <td>1.741306</td>\n",
              "      <td>43.933054</td>\n",
              "    </tr>\n",
              "    <tr>\n",
              "      <th>sep</th>\n",
              "      <td>1.384302</td>\n",
              "      <td>44.912281</td>\n",
              "    </tr>\n",
              "    <tr>\n",
              "      <th>mar</th>\n",
              "      <td>1.326015</td>\n",
              "      <td>50.549451</td>\n",
              "    </tr>\n",
              "    <tr>\n",
              "      <th>dec</th>\n",
              "      <td>0.442005</td>\n",
              "      <td>48.901099</td>\n",
              "    </tr>\n",
              "  </tbody>\n",
              "</table>\n",
              "</div>"
            ],
            "text/plain": [
              "     % Contacted  % Subscription\n",
              "may    33.434525        6.435680\n",
              "jul    17.410628        9.038918\n",
              "aug    14.999029       10.605570\n",
              "jun    12.915290       10.511470\n",
              "nov     9.957257       10.146341\n",
              "apr     6.389644       20.486507\n",
              "oct     1.741306       43.933054\n",
              "sep     1.384302       44.912281\n",
              "mar     1.326015       50.549451\n",
              "dec     0.442005       48.901099"
            ]
          },
          "metadata": {
            "tags": []
          },
          "execution_count": 19
        }
      ]
    },
    {
      "cell_type": "code",
      "metadata": {
        "id": "DwwYGkt3FnEs",
        "colab_type": "code",
        "colab": {
          "base_uri": "https://localhost:8080/",
          "height": 594
        },
        "outputId": "1bf00818-49a7-4732-83a8-9f8476b3ba46"
      },
      "source": [
        "fig, ax = plt.subplots(figsize=(16, 10))\n",
        "sns.barplot(month.index, month['% Subscription'])\n",
        "plt.show()"
      ],
      "execution_count": 20,
      "outputs": [
        {
          "output_type": "display_data",
          "data": {
            "image/png": "[encoded data removed]",
            "text/plain": [
              "<Figure size 1152x720 with 1 Axes>"
            ]
          },
          "metadata": {
            "tags": [],
            "needs_background": "light"
          }
        }
      ]
    },
    {
      "cell_type": "markdown",
      "metadata": {
        "id": "VscV1MvpK2XG",
        "colab_type": "text"
      },
      "source": [
        "### **Insight: April, March, September, October, December are the months where there is a significantly higher subscription rate relative to our contact rate**\n",
        "\n",
        "\n",
        "\n",
        "---\n",
        "April and May closely correspond to summer break months where maybe students are working on internships and are more keen to invest the money they have earned. The same goes for the winter break in December. \n",
        "\n",
        "Perhaps in these months we should target students and retired people as we have noted earlier. \n",
        "\n",
        "It is also worth noting that heavy efforts are being spent in May and July but the conversion rate is not encourgaing. \n",
        "\n",
        "The bank should shift their attention to the clearly more optimal months. \n",
        "\n",
        "---\n",
        "\n"
      ]
    },
    {
      "cell_type": "markdown",
      "metadata": {
        "id": "idAFjTsN6CQP",
        "colab_type": "text"
      },
      "source": [
        "References:\n",
        "\n",
        "1. https://archive.ics.uci.edu/ml/datasets/Bank+Marketing\n",
        "2. S. Moro, P. Cortez and P. Rita. A Data-Driven Approach to Predict the Success of Bank Telemarketing. Decision Support Systems, Elsevier, 62:22-31, June 2014\n",
        "3. S. Moro, R. Laureano and P. Cortez. Using Data Mining for Bank Direct Marketing: An Application of the CRISP-DM Methodology. In P. Novais et al. (Eds.), Proceedings of the European Simulation and Modelling Conference - ESM'2011, pp. 117-121, Guimaraes, Portugal, October, 2011. EUROSIS.\n",
        "4. https://www.kaggle.com/yufengsui/ml-project-bank-telemarketing-analysis "
      ]
    }
  ]
}